{
 "cells": [
  {
   "cell_type": "markdown",
   "metadata": {},
   "source": [
    "# Learn the difference between procedural and functional programming style."
   ]
  },
  {
   "cell_type": "markdown",
   "metadata": {},
   "source": [
    "<img src=\"images/god.jpg\" width=\"600\">"
   ]
  },
  {
   "cell_type": "code",
   "execution_count": 4,
   "metadata": {},
   "outputs": [
    {
     "name": "stdout",
     "output_type": "stream",
     "text": [
      "O desvio padrão para as temperaturas em Farenheit é 39.39492353083072\n",
      "O desvio padrão para as temperaturas em Celcius é 21.88606862823929\n"
     ]
    }
   ],
   "source": [
    "tempC=[56,35,25,74]\n",
    "tempF=[132.8,95,77,165.2]\n",
    "\n",
    "\n",
    "mediaF = sum(tempF)/len(tempF)\n",
    "varianciaF=0\n",
    "for value in tempF:\n",
    "    varianciaF += (value - mediaF)**2\n",
    "    stdf = (varianciaF/(len(tempF)-1))**(0.5)\n",
    "print(\"O desvio padrão para as temperaturas em Farenheit é\", stdf)\n",
    "\n",
    "\n",
    "mediaC = sum(tempC)/len(tempC)\n",
    "vc=0\n",
    "for value in tempC:\n",
    "    vc += (value - mediaC)**2\n",
    "    stdc = (vc/(len(tempF)-1))**(0.5)\n",
    "print(\"O desvio padrão para as temperaturas em Celcius é\", stdc)\n"
   ]
  },
  {
   "cell_type": "code",
   "execution_count": 8,
   "metadata": {},
   "outputs": [],
   "source": [
    "def stdevrutz(temperatura):\n",
    "    media = sum(temperatura)/len(temperatura)\n",
    "    variancia=0\n",
    "    for value in temperatura:\n",
    "        variancia += (value - media)**2\n",
    "        stdc = (variancia/(len(temperatura)-1))**(0.5)\n",
    "    return stdc"
   ]
  },
  {
   "cell_type": "code",
   "execution_count": 9,
   "metadata": {},
   "outputs": [
    {
     "name": "stdout",
     "output_type": "stream",
     "text": [
      "O desvio padrão para as temperaturas em Farenheit é 39.39492353083072\n",
      "O desvio padrão para as temperaturas em Celcius é 21.88606862823929\n"
     ]
    }
   ],
   "source": [
    "print(\"O desvio padrão para as temperaturas em Farenheit é\", stdevrutz(tempF))\n",
    "print(\"O desvio padrão para as temperaturas em Celcius é\", stdevrutz(tempC))"
   ]
  },
  {
   "cell_type": "code",
   "execution_count": null,
   "metadata": {},
   "outputs": [],
   "source": [
    "import statistics \n",
    "print(\"O desvio padrão para as temperaturas em Farenheit é\", statistics.stdev(tempF))\n",
    "print(\"O desvio padrão para as temperaturas em Celcius é\", statistics.stdev(tempC))"
   ]
  },
  {
   "cell_type": "code",
   "execution_count": 11,
   "metadata": {},
   "outputs": [],
   "source": [
    "def lenrutz(object):\n",
    "    count=0\n",
    "    for i in object:\n",
    "        count+=1\n",
    "    return count"
   ]
  },
  {
   "cell_type": "code",
   "execution_count": 12,
   "metadata": {},
   "outputs": [
    {
     "data": {
      "text/plain": [
       "4"
      ]
     },
     "execution_count": 12,
     "metadata": {},
     "output_type": "execute_result"
    }
   ],
   "source": [
    "lenrutz(tempC)"
   ]
  },
  {
   "cell_type": "code",
   "execution_count": 13,
   "metadata": {},
   "outputs": [
    {
     "data": {
      "text/plain": [
       "4"
      ]
     },
     "execution_count": 13,
     "metadata": {},
     "output_type": "execute_result"
    }
   ],
   "source": [
    "len(tempC)"
   ]
  },
  {
   "cell_type": "markdown",
   "metadata": {},
   "source": [
    "<img src=\"images/coach.jpeg\" width=\"400\">\n"
   ]
  },
  {
   "cell_type": "markdown",
   "metadata": {},
   "source": [
    "# Learn about the components of functions and how to write them in Python."
   ]
  },
  {
   "cell_type": "code",
   "execution_count": null,
   "metadata": {},
   "outputs": [],
   "source": [
    "# \"def\" nome escolhido da função (input de variáveis que a função vai usar):\n",
    "\n",
    "def list2string(lst):\n",
    "    string = ' '.join(lst)\n",
    "    return string\n",
    "\n",
    "to_string = ['John', 'was', 'a', 'man', 'of', 'many', 'talents']\n",
    "\n",
    "print(list2string(to_string))\n"
   ]
  },
  {
   "cell_type": "code",
   "execution_count": null,
   "metadata": {},
   "outputs": [],
   "source": [
    "def strnormalize(rawstring):\n",
    "    normalized = rawstring.replace(\",\",\"\").replace(\".\",\"\").lower()\n",
    "    return normalized\n",
    "\n",
    "ronai = \"O Português é alegre e doce, como um idioma de passarinhos.\"\n",
    "\n",
    "print(strnormalize(ronai))"
   ]
  },
  {
   "cell_type": "code",
   "execution_count": 1,
   "metadata": {},
   "outputs": [
    {
     "name": "stdout",
     "output_type": "stream",
     "text": [
      "O que precisamos em São Paulo? \n",
      "noee,wd\n",
      "O que precisamos em São Paulo? \n",
      "edwefr\n",
      "O que precisamos em São Paulo? \n",
      "dwwedr\n",
      "O que precisamos em São Paulo? \n",
      "Amor\n",
      "Não existe amor em SP\n"
     ]
    }
   ],
   "source": [
    "#loop\n",
    "def amor():\n",
    "    SP = input(\"O que precisamos em São Paulo? \\n\")\n",
    "    while SP != \"Amor\":\n",
    "        return amor()\n",
    "    print(\"Não existe amor em SP\")\n",
    "amor()"
   ]
  },
  {
   "cell_type": "code",
   "execution_count": null,
   "metadata": {},
   "outputs": [],
   "source": [
    "#conditional\n",
    "def plays(gamestatus):\n",
    "#checks if player is in target room\n",
    "    if gamestatus.get(\"current_room\") == gamestatus.get(\"target_room\"):\n",
    "        print(\"Congratulation you've scapped\")\n",
    "#if player is in target room resets all variables       \n",
    "        reset()\n",
    "#if player is not in target room go to function to explore room(has to find index of room in roomslist)\n",
    "    else: \n",
    "        explore(gamestatus.get(\"current_room\"),gamestatus)\n"
   ]
  },
  {
   "cell_type": "code",
   "execution_count": null,
   "metadata": {},
   "outputs": [],
   "source": [
    "#regex\n",
    "#listcomprehensions \n",
    "def strregex(rawstring):\n",
    "    newstr = [re.sub('\\w*\\s-\\s', '', item) for item in rawstring]\n",
    "    return newstr\n",
    "\n",
    "import re\n",
    "lei=[\"Art. 1º A República Federativa do Brasil, formada pela união indissolúvel dos Estados e Municípios e do Distrito Federal, constitui-se em Estado Democrático de Direito e tem como fundamentos:\",\n",
    "\n",
    "\"I - a soberania;\",\n",
    "\n",
    "\"II - a cidadania;\",\n",
    "\n",
    "\"III - a dignidade da pessoa humana;\",\n",
    "\n",
    "\"IV - os valores sociais do trabalho e da livre iniciativa;\",\n",
    "\n",
    "\"V - o pluralismo político.\",\n",
    "\n",
    "\"Parágrafo único. Todo o poder emana do povo, que o exerce por meio de representantes eleitos ou diretamente, nos termos desta Constituição.\",\n",
    "\n",
    "\"Art. 2º São Poderes da União, independentes e harmônicos entre si, o Legislativo, o Executivo e o Judiciário.\",\n",
    "\n",
    "\"Art. 3º Constituem objetivos fundamentais da República Federativa do Brasil:\",\n",
    "\n",
    "\"I - construir uma sociedade livre, justa e solidária;\",\n",
    "\n",
    "\"II - garantir o desenvolvimento nacional;\",\n",
    "\n",
    "\"III - erradicar a pobreza e a marginalização e reduzir as desigualdades sociais e regionais;\",\n",
    "\n",
    "\"IV - promover o bem de todos, sem preconceitos de origem, raça, sexo, cor, idade e quaisquer outras formas de discriminação.\",\n",
    "\n",
    "\"Art. 4º A República Federativa do Brasil rege-se nas suas relações internacionais pelos seguintes princípios:\",\n",
    "\n",
    "\"I - independência nacional;\",\n",
    "\n",
    "\"II - prevalência dos direitos humanos;\",\n",
    "\n",
    "\"III - autodeterminação dos povos;\",\n",
    "\n",
    "\"IV - não-intervenção;\",\n",
    "\n",
    "\"V - igualdade entre os Estados;\",\n",
    "\n",
    "\"VI - defesa da paz;\",\n",
    "\n",
    "\"VII - solução pacífica dos conflitos;\",\n",
    "\n",
    "\"VIII - repúdio ao terrorismo e ao racismo;\",\n",
    "\n",
    "\"IX - cooperação entre os povos para o progresso da humanidade;,\",\n",
    "\n",
    "\"X - concessão de asilo político.\",\n",
    "\n",
    "\"Parágrafo único. A República Federativa do Brasil buscará a integração econômica, política, social e cultural dos povos da América Latina, visando à formação de uma comunidade latino-americana de nações.\"]\n",
    "strregex(lei)"
   ]
  },
  {
   "cell_type": "code",
   "execution_count": 13,
   "metadata": {},
   "outputs": [
    {
     "name": "stdout",
     "output_type": "stream",
     "text": [
      "<function make_multiplier_of.<locals>.multiplier at 0x000001DBA8416C80>\n"
     ]
    }
   ],
   "source": [
    "def make_multiplier_of(n):\n",
    "    def multiplier(x):\n",
    "        return x * n\n",
    "    return multiplier\n",
    "\n",
    "multi = make_multiplier_of(3)\n",
    "print(multi)\n",
    "\n",
    "#multi(2)"
   ]
  },
  {
   "cell_type": "markdown",
   "metadata": {},
   "source": [
    "<img src=\"images/imaage1.jpg\" width=\"400\">"
   ]
  },
  {
   "cell_type": "markdown",
   "metadata": {},
   "source": [
    "# Learn the difference between global and local variables and how they apply to functions."
   ]
  },
  {
   "cell_type": "code",
   "execution_count": 9,
   "metadata": {},
   "outputs": [
    {
     "name": "stdout",
     "output_type": "stream",
     "text": [
      "9 18\n"
     ]
    }
   ],
   "source": [
    "#Global vs. Local Variables\n",
    "\n",
    "a = 9\n",
    "#a=\"bananas\"\n",
    "\n",
    "\n",
    "def multiply(number, multiplier=2):\n",
    "    b = number * multiplier\n",
    "    #print(a)\n",
    "    #a = \"bananas\"\n",
    "    #print(a)\n",
    "    \n",
    "    return b\n",
    "\n",
    "c = multiply(a)\n",
    "\n",
    "print(a,c)\n",
    "#print(b)\n",
    "#print(a)"
   ]
  },
  {
   "cell_type": "code",
   "execution_count": null,
   "metadata": {},
   "outputs": [],
   "source": [
    "list1 = []\n",
    "dict1={}\n",
    "\n",
    "\n",
    "\n",
    "def multiply(number, multiplier=2):\n",
    "    b = number * multiplier\n",
    "    #print(list1)\n",
    "    #dict1[0]= \"sbrub\"\n",
    "    list2=[32,45,32]\n",
    "    #list1.append(\"teterereteteste\")\n",
    "    print(dict1)\n",
    "    print(list1)\n",
    "    return b\n",
    "\n",
    "c = multiply(a)\n",
    "\n",
    "#print(list2)\n",
    "#print(dict1)\n",
    "#print(list1)"
   ]
  },
  {
   "cell_type": "markdown",
   "metadata": {},
   "source": [
    "<img src=\"images/pandas.jpg\" width=\"400\">"
   ]
  },
  {
   "cell_type": "markdown",
   "metadata": {},
   "source": [
    "# Learn how to apply functions to Pandas data frames."
   ]
  },
  {
   "cell_type": "code",
   "execution_count": 13,
   "metadata": {},
   "outputs": [
    {
     "data": {
      "text/html": [
       "<div>\n",
       "<style scoped>\n",
       "    .dataframe tbody tr th:only-of-type {\n",
       "        vertical-align: middle;\n",
       "    }\n",
       "\n",
       "    .dataframe tbody tr th {\n",
       "        vertical-align: top;\n",
       "    }\n",
       "\n",
       "    .dataframe thead th {\n",
       "        text-align: right;\n",
       "    }\n",
       "</style>\n",
       "<table border=\"1\" class=\"dataframe\">\n",
       "  <thead>\n",
       "    <tr style=\"text-align: right;\">\n",
       "      <th></th>\n",
       "      <th>Column</th>\n",
       "      <th>Mean</th>\n",
       "    </tr>\n",
       "  </thead>\n",
       "  <tbody>\n",
       "    <tr>\n",
       "      <th>0</th>\n",
       "      <td>Year</td>\n",
       "      <td>2000.716400</td>\n",
       "    </tr>\n",
       "    <tr>\n",
       "      <th>1</th>\n",
       "      <td>Engine Displacement</td>\n",
       "      <td>3.338493</td>\n",
       "    </tr>\n",
       "    <tr>\n",
       "      <th>2</th>\n",
       "      <td>Cylinders</td>\n",
       "      <td>5.765076</td>\n",
       "    </tr>\n",
       "    <tr>\n",
       "      <th>3</th>\n",
       "      <td>Fuel Barrels/Year</td>\n",
       "      <td>17.609056</td>\n",
       "    </tr>\n",
       "    <tr>\n",
       "      <th>4</th>\n",
       "      <td>City MPG</td>\n",
       "      <td>17.646139</td>\n",
       "    </tr>\n",
       "    <tr>\n",
       "      <th>5</th>\n",
       "      <td>Highway MPG</td>\n",
       "      <td>23.880646</td>\n",
       "    </tr>\n",
       "    <tr>\n",
       "      <th>6</th>\n",
       "      <td>Combined MPG</td>\n",
       "      <td>19.929322</td>\n",
       "    </tr>\n",
       "    <tr>\n",
       "      <th>7</th>\n",
       "      <td>CO2 Emission Grams/Mile</td>\n",
       "      <td>475.316339</td>\n",
       "    </tr>\n",
       "    <tr>\n",
       "      <th>8</th>\n",
       "      <td>Fuel Cost/Year</td>\n",
       "      <td>1892.598465</td>\n",
       "    </tr>\n",
       "  </tbody>\n",
       "</table>\n",
       "</div>"
      ],
      "text/plain": [
       "                    Column         Mean\n",
       "0                     Year  2000.716400\n",
       "1      Engine Displacement     3.338493\n",
       "2                Cylinders     5.765076\n",
       "3        Fuel Barrels/Year    17.609056\n",
       "4                 City MPG    17.646139\n",
       "5              Highway MPG    23.880646\n",
       "6             Combined MPG    19.929322\n",
       "7  CO2 Emission Grams/Mile   475.316339\n",
       "8           Fuel Cost/Year  1892.598465"
      ]
     },
     "execution_count": 13,
     "metadata": {},
     "output_type": "execute_result"
    }
   ],
   "source": [
    "#Applying Functions to Data Frames\n",
    "\n",
    "import pandas as pd\n",
    "\n",
    "data = pd.read_csv('./vehicles.csv')\n",
    "\n",
    "def get_means(df):\n",
    "    numeric = df._get_numeric_data()\n",
    "    means = pd.DataFrame(numeric.mean()).reset_index()\n",
    "    means.columns = ['Column', 'Mean']\n",
    "    return means\n",
    "\n",
    "mean_df = get_means(data)\n",
    "mean_df\n"
   ]
  },
  {
   "cell_type": "code",
   "execution_count": 76,
   "metadata": {},
   "outputs": [],
   "source": [
    "def reasign(x):   \n",
    "    if type(x)==str:\n",
    "        for i in columndict.keys():\n",
    "            if i in x:\n",
    "                x = columndict[i]\n",
    "        return x \n",
    "    elif type(x)==float or type(x)==int:\n",
    "        return int(x)\n",
    "   "
   ]
  },
  {
   "cell_type": "code",
   "execution_count": 71,
   "metadata": {},
   "outputs": [],
   "source": [
    "data[\"Fuel\"] = data[\"Fuel Barrels/Year\"].apply(reasign)\n",
    "data[\"Fuel\"].value_counts()"
   ]
  },
  {
   "cell_type": "code",
   "execution_count": null,
   "metadata": {},
   "outputs": [],
   "source": [
    "data[\"Vehicle Class\"].value_counts()"
   ]
  },
  {
   "cell_type": "code",
   "execution_count": 79,
   "metadata": {},
   "outputs": [],
   "source": [
    "columndict = {\"Car\":\"Car\",\n",
    "             \"Truck\":\"Truck\",\n",
    "             \"Vehicle\":\"Other\",\n",
    "             \"Wagon\":\"Other\",\n",
    "             \"Van\":\"Other\",\n",
    "             \"van\":\"Other\",\n",
    "             \"Seaters\":\"Other\"}\n",
    "data[\"Type\"] = data[\"Vehicle Class\"].apply(reasign)\n",
    "data[\"Type\"].value_counts()"
   ]
  },
  {
   "cell_type": "markdown",
   "metadata": {},
   "source": [
    "\n",
    "* We began the lesson by looking at the differences between procedural code and functional code. \n",
    "* We then covered how to construct functions in Python and the differences between global and local variables. \n",
    "* We ended the chapter by learning how functions can be applied to a Pandas data frame. \n",
    "\n",
    "\n"
   ]
  },
  {
   "cell_type": "markdown",
   "metadata": {},
   "source": [
    "<img src=\"images/googling.jpg\" width=\"400\">"
   ]
  }
 ],
 "metadata": {
  "kernelspec": {
   "display_name": "Python 3",
   "language": "python",
   "name": "python3"
  },
  "language_info": {
   "codemirror_mode": {
    "name": "ipython",
    "version": 3
   },
   "file_extension": ".py",
   "mimetype": "text/x-python",
   "name": "python",
   "nbconvert_exporter": "python",
   "pygments_lexer": "ipython3",
   "version": "3.7.3"
  }
 },
 "nbformat": 4,
 "nbformat_minor": 2
}
