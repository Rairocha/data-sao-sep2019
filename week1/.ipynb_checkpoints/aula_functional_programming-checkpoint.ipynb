{
 "cells": [
  {
   "cell_type": "code",
   "execution_count": null,
   "metadata": {},
   "outputs": [],
   "source": [
    "Learn the difference between procedural and functional programming style.\n",
    "\n",
    "#do it with known functions  "
   ]
  },
  {
   "cell_type": "code",
   "execution_count": null,
   "metadata": {},
   "outputs": [],
   "source": []
  },
  {
   "cell_type": "code",
   "execution_count": null,
   "metadata": {},
   "outputs": [],
   "source": [
    "#Learn about the components of functions and how to write them in Python.\n",
    "Personal functions\n",
    "\n",
    "\n",
    "def list2string(lst):\n",
    "    string = ' '.join(lst)\n",
    "    return string\n",
    "\n",
    "to_string = ['John', 'was', 'a', 'man', 'of', 'many', 'talents']\n",
    "list2string(to_string)\n",
    "\n",
    "'John was a man of many talents'\n",
    "\n",
    "#loop\n",
    "\n",
    "#conditional\n",
    "\n",
    "#listcomprehensions \n",
    "\n",
    "#regex\n"
   ]
  },
  {
   "cell_type": "code",
   "execution_count": null,
   "metadata": {},
   "outputs": [],
   "source": [
    "<img src=\"images/content_lightning_bolt_big.jpg\" width=\"400\">"
   ]
  },
  {
   "cell_type": "code",
   "execution_count": null,
   "metadata": {},
   "outputs": [],
   "source": [
    "from IPython.display import Image\n",
    "Image(\"img/picture.png\")"
   ]
  },
  {
   "cell_type": "code",
   "execution_count": null,
   "metadata": {},
   "outputs": [],
   "source": [
    "Learn the difference between global and local variables and how they apply to functions.\n",
    "Global vs. Local Variables\n",
    "#mudar global dentro de funcao\n",
    "a = 9\n",
    "\n",
    "dict1={}\n",
    "\n",
    "list1 = []\n",
    "\n",
    "def multiply(number, multiplier=2):\n",
    "    b = number * multiplier\n",
    "    dict1[0]= \"sbrub\"\n",
    "    list2=[32,45,32]\n",
    "    list1.append(\"teteteteteteste\")\n",
    "    print(dict1)\n",
    "    print(list1)\n",
    "    return b\n",
    "\n",
    "c = multiply(a)\n",
    "\n",
    "print(list2)\n",
    "#print(a, c)\n",
    "#print(dict1)\n",
    "#print(list1)"
   ]
  },
  {
   "cell_type": "code",
   "execution_count": null,
   "metadata": {},
   "outputs": [],
   "source": []
  },
  {
   "cell_type": "code",
   "execution_count": null,
   "metadata": {},
   "outputs": [],
   "source": [
    "Learn how to apply functions to Pandas data frames."
   ]
  },
  {
   "cell_type": "code",
   "execution_count": null,
   "metadata": {},
   "outputs": [],
   "source": [
    "Applying Functions to Data Frames\n",
    "\n",
    " \n",
    "For this example, we will import Pandas and the vehicles\n",
    "data set we have been working with in this module. We will \n",
    "then write a get_means function that identifies all the numeric\n",
    "columns in the data set and returns a data frame containing each \n",
    "column name and its mean.\n",
    "\n",
    "import pandas as pd\n",
    "\n",
    "data = pd.read_csv('./data sets/vehicles/vehicles.csv')\n",
    "\n",
    "def get_means(df):\n",
    "    numeric = df._get_numeric_data()\n",
    "    means = pd.DataFrame(numeric.mean()).reset_index()\n",
    "    means.columns = ['Column', 'Mean']\n",
    "    return means\n",
    "\n",
    "mean_df = get_means(data)\n",
    "mean_df\n",
    "\n",
    "Column Means\n",
    "\n",
    "Note that we performed several steps with a single function call:\n",
    "\n",
    "\n"
   ]
  },
  {
   "cell_type": "code",
   "execution_count": null,
   "metadata": {},
   "outputs": [],
   "source": [
    "\n",
    "We began the lesson by looking at the differences between\n",
    "writing procedural code and functional code. \n",
    "We then covered how to construct functions in Python and the differences between global and local variables. \n",
    "We ended the chapter by learning how functions can be applied to a Pandas data frame. \n",
    "\n",
    "\n"
   ]
  }
 ],
 "metadata": {
  "kernelspec": {
   "display_name": "Python 3",
   "language": "python",
   "name": "python3"
  },
  "language_info": {
   "codemirror_mode": {
    "name": "ipython",
    "version": 3
   },
   "file_extension": ".py",
   "mimetype": "text/x-python",
   "name": "python",
   "nbconvert_exporter": "python",
   "pygments_lexer": "ipython3",
   "version": "3.7.3"
  }
 },
 "nbformat": 4,
 "nbformat_minor": 2
}
