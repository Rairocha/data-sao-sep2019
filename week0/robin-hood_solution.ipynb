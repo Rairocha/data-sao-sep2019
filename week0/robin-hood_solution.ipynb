{
 "cells": [
  {
   "cell_type": "markdown",
   "metadata": {},
   "source": [
    "# Robin Hood:\n",
    "We are in a competition to win the archery contest in Sherwood. With our bow and arrows we shoot on a target and try to hit as close as possible to the center.\n",
    "\n",
    "The center of the target is represented by the values (0, 0) on the coordinate axes.\n",
    "\n",
    "![](images/arrows.jpg)\n",
    "\n",
    "## Goals:\n",
    "* data structures: lists, sets, tuples\n",
    "* logical operators: if-elif-else\n",
    "* loop: while/for\n",
    "* minimum (optional sorting)\n",
    "\n",
    "## Description:\n",
    "In the 2-dimensional space, a point can be defined by a pair of values that correspond to the horizontal coordinate (x) and the vertical coordinate (y). The space can be divided into 4 zones (quadrants): Q1, Q2, Q3, Q4. Whose single point of union is the point (0, 0).\n",
    "\n",
    "If a point is in Q1 both its x coordinate and the y are positive. I leave a link to wikipedia to familiarize yourself with these quadrants.\n",
    "\n",
    "https://en.wikipedia.org/wiki/Cartesian_coordinate_system\n",
    "\n",
    "https://en.wikipedia.org/wiki/Euclidean_distance\n",
    "\n",
    "## Shots\n",
    "```\n",
    "points = [(4, 5), (-0, 2), (4, 7), (1, -3), (3, -2), (4, 5),\n",
    "          (3, 2), (5, 7), (-5, 7), (2, 2), (-4, 5), (0, -2),\n",
    "          (-4, 7), (-1, 3), (-3, 2), (-4, -5), (-3, 2),\n",
    "          (5, 7), (5, 7), (2, 2), (9, 9), (-8, -9)]\n",
    "```\n",
    "\n",
    "## Tasks\n",
    "1. Robin Hood is famous for hitting an arrow with another arrow. Did you get it?\n",
    "2. Calculate how many arrows have fallen in each quadrant.\n",
    "3. Find the point closest to the center. Calculate its distance to the center. \n",
    "4. If the target has a radius of 9, calculate the number of arrows that must be picked up in the forest."
   ]
  },
  {
   "cell_type": "code",
   "execution_count": 2,
   "metadata": {},
   "outputs": [],
   "source": [
    "# Variables\n",
    "\n",
    "points = [(4, 5), (-0, 2), (4, 7), (1, -3), (3, -2), (4, 5),\n",
    "          (3, 2), (5, 7), (-5, 7), (2, 2), (-4, 5), (0, -2),\n",
    "          (-4, 7), (-1, 3), (-3, 2), (-4, -5), (-3, 2),\n",
    "          (5, 7), (5, 7), (2, 2), (9, 9), (-8, -9)]"
   ]
  },
  {
   "cell_type": "code",
   "execution_count": 3,
   "metadata": {},
   "outputs": [
    {
     "name": "stdout",
     "output_type": "stream",
     "text": [
      "You have a double hit!\n",
      "You have a double hit!\n",
      "You have a double hit!\n",
      "You have a double hit!\n",
      "You have a double hit!\n"
     ]
    }
   ],
   "source": [
    "# 1. Robin Hood is famous for hitting an arrow with another arrow. Did you get it?\n",
    "hit = []\n",
    "for point in points:\n",
    "    if point in hit:\n",
    "        print (\"You have a double hit!\")\n",
    "    else:\n",
    "        hit.append(point)\n"
   ]
  },
  {
   "cell_type": "code",
   "execution_count": 6,
   "metadata": {
    "scrolled": true
   },
   "outputs": [
    {
     "name": "stdout",
     "output_type": "stream",
     "text": [
      "['Q1', 'L', 'Q1', 'Q2', 'Q2', 'Q1', 'Q1', 'Q1', 'Q4', 'Q1', 'Q4', 'L', 'Q4', 'Q4', 'Q4', 'Q3', 'Q4', 'Q1', 'Q1', 'Q1', 'Q1', 'Q3']\n",
      "You have 10 hits in quandrant 1\n",
      "You have 2 hits in quandrant 2\n",
      "You have 2 hits in quandrant 3\n",
      "You have 6 hits in quandrant 4\n",
      "You have 2 hits in a line\n"
     ]
    }
   ],
   "source": [
    "# 2. Calculate how many arrows have fallen in each quadrant.\n",
    "quadrant = []\n",
    "#X and Y localization of your hit \n",
    "'''Q1=0\n",
    "Q2=0\n",
    "Q3=0\n",
    "Q4=0\n",
    "for point in points:\n",
    "    if point[0]>= 0 and point[1] >=0:\n",
    "        Q1 += 1\n",
    "    elif point [0] >= 0 and point[1] <=0:\n",
    "        Q2 += 1\n",
    "    elif point [0]<=0 and point [1]<= 0:\n",
    "        Q3 +=1\n",
    "    elif point [0] <= 0 and point [1]>=0:\n",
    "        Q4 += 1\n",
    "        \n",
    "print(Q1)\n",
    "print(Q2)\n",
    "print(Q3)\n",
    "print(Q4)'''\n",
    "\n",
    "'''for point in points:\n",
    "    if point[0]>=0 and point [1]>=0 :\n",
    "        quadrant.append(\"Q1\")\n",
    "    elif point[0]>=0 and point [1]<=0: \n",
    "        quadrant.append(\"Q2\")\n",
    "    elif point[0]<=0 and point [1]>=0 :\n",
    "        quadrant.append(\"Q3\")\n",
    "    elif point[0]<=0 and point [1]<=0 :\n",
    "        quadrant.append(\"Q4\")'''\n",
    "    \n",
    "positivex = 0\n",
    "positivey = 0\n",
    "\n",
    "for point in points:\n",
    "    if point[0] > 0:\n",
    "        positivex = True\n",
    "    \n",
    "    elif point[0] < 0:\n",
    "        positivex = False\n",
    "        \n",
    "    else:\n",
    "        positivex = None\n",
    "    \n",
    "    if point[1] >0:\n",
    "        positivey = True\n",
    "    \n",
    "    elif point[1]<0:\n",
    "        positivey = False\n",
    "    else: \n",
    "        positivey = None\n",
    "        \n",
    "\n",
    "# In what quadrant your hit is.       \n",
    "    \n",
    "    if positivex == None or positivey == None:\n",
    "        quadrant.append(\"L\")\n",
    "    \n",
    "    elif positivex == True and positivey == True:\n",
    "        quadrant.append(\"Q1\")\n",
    "    \n",
    "    elif positivex == True and positivey == False:\n",
    "        quadrant.append(\"Q2\")\n",
    "    \n",
    "    elif positivex == False and positivey == False:\n",
    "        quadrant.append(\"Q3\")\n",
    "        \n",
    "    elif positivex == False and positivey == True:\n",
    "        quadrant.append(\"Q4\")\n",
    "        \n",
    "    \n",
    "\n",
    "print(quadrant)        \n",
    "print(\"You have %d hits in quandrant 1\"%quadrant.count(\"Q1\"))\n",
    "print(\"You have %d hits in quandrant 2\"%quadrant.count(\"Q2\"))\n",
    "print(\"You have %d hits in quandrant 3\"%quadrant.count(\"Q3\"))\n",
    "print(\"You have %d hits in quandrant 4\"%quadrant.count(\"Q4\"))\n",
    "print(\"You have %d hits in a line\"%quadrant.count(\"L\"))\n",
    "        \n",
    "    \n"
   ]
  },
  {
   "cell_type": "code",
   "execution_count": 7,
   "metadata": {},
   "outputs": [
    {
     "name": "stdout",
     "output_type": "stream",
     "text": [
      "Closest point is 1\n"
     ]
    }
   ],
   "source": [
    "# 3. Find the point closest to the center. Calculate its distance to the center\n",
    "distance = []\n",
    "for point in points:\n",
    "    d = ((point[0]**2)+(point[1]**2))**0.5\n",
    "    distance.append(d)\n",
    "print (\"Closest point is\", distance.index(min(distance)))\n",
    "#how to find both of the min distances ??"
   ]
  },
  {
   "cell_type": "code",
   "execution_count": 7,
   "metadata": {},
   "outputs": [
    {
     "name": "stdout",
     "output_type": "stream",
     "text": [
      "you must pick 2 arrows in the forest\n"
     ]
    }
   ],
   "source": [
    "# 4. If the target has a radius of 9, calculate the number of arrows that \n",
    "# must be picked up in the forest.\n",
    "forest = 0\n",
    "for d in distance:\n",
    "    if d > 9 :\n",
    "        forest+=1\n",
    "print (\"you must pick %d arrows in the forest\"%forest)\n",
    "\n",
    "\n"
   ]
  },
  {
   "cell_type": "code",
   "execution_count": null,
   "metadata": {},
   "outputs": [],
   "source": []
  }
 ],
 "metadata": {
  "kernelspec": {
   "display_name": "Python 3",
   "language": "python",
   "name": "python3"
  },
  "language_info": {
   "codemirror_mode": {
    "name": "ipython",
    "version": 3
   },
   "file_extension": ".py",
   "mimetype": "text/x-python",
   "name": "python",
   "nbconvert_exporter": "python",
   "pygments_lexer": "ipython3",
   "version": "3.7.3"
  }
 },
 "nbformat": 4,
 "nbformat_minor": 2
}
