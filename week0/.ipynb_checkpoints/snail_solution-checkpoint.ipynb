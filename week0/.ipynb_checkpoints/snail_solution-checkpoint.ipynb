{
 "cells": [
  {
   "cell_type": "markdown",
   "metadata": {},
   "source": [
    "# Snail and well\n",
    "\n",
    "A snail falls at the bottom of a 125 cm well. Each day the snail rises 30 cm. But at night, while sleeping, slides 20 cm because the walls are wet. How many days does it take to escape from the well?\n",
    "\n",
    "TIP: http://puzzles.nigelcoldwell.co.uk/sixtytwo.htm"
   ]
  },
  {
   "cell_type": "markdown",
   "metadata": {},
   "source": [
    "## Solución"
   ]
  },
  {
   "cell_type": "code",
   "execution_count": 1,
   "metadata": {},
   "outputs": [
    {
     "name": "stdout",
     "output_type": "stream",
     "text": [
      "Days = 10\n"
     ]
    }
   ],
   "source": [
    "# Assign problem data to variables with representative names\n",
    "# well height, daily advance, night retreat, accumulated distance\n",
    "\n",
    "well_height = 125\n",
    "daily_advance = 30\n",
    "night_retreat = -20\n",
    "\n",
    "# Assign 0 to the variable that represents the solution\n",
    "\n",
    "days = 0\n",
    "position = 0\n",
    "\n",
    "# Write the code that solves the problem\n",
    "while position < well_height :\n",
    "    dayposition = position + daily_advance\n",
    "    if dayposition > well_height:\n",
    "        break\n",
    "    days += 1\n",
    "    position += daily_advance + night_retreat\n",
    "\n",
    "print (\"Days =\", days)\n",
    "    \n",
    "\n",
    "# Print the result with print('Days =', days)\n"
   ]
  },
  {
   "cell_type": "markdown",
   "metadata": {},
   "source": [
    "## Goals\n",
    "\n",
    "1. Treatment of variables\n",
    "2. Use of loop **while**\n",
    "3. Use of conditional **if-else**\n",
    "4. Print in console"
   ]
  },
  {
   "cell_type": "markdown",
   "metadata": {},
   "source": [
    "## Bonus\n",
    "The distance traveled by the snail is now defined by a list.\n",
    "```\n",
    "advance_cm = [30, 21, 33, 77, 44, 45, 23, 45, 12, 34, 55]\n",
    "```\n",
    "How long does it take to raise the well?\n",
    "\n",
    "What is its maximum displacement in one day? And its minimum?\n",
    "\n",
    "What is its average speed during the day?\n",
    "\n",
    "What is the standard deviation of its displacement during the day?"
   ]
  },
  {
   "cell_type": "code",
   "execution_count": 2,
   "metadata": {},
   "outputs": [
    {
     "name": "stdout",
     "output_type": "stream",
     "text": [
      "5 days\n",
      "Maximum displacement 77 cm\n",
      "Minimum dosplacement 12 cm\n",
      "The average speed is 38.090909 cm/day\n",
      "Standard Deviation of sample is 17.996969441850734 \n"
     ]
    }
   ],
   "source": [
    "# Assign problem data to variables with representative names\n",
    "# well height, daily advance, night retreat, accumulated distance\n",
    "\n",
    "well_height = 125\n",
    "daily_advancelist = [30,21,33,77,44,45,23,45,12,34,55]\n",
    "\n",
    "night_retreat = -20\n",
    "distance = 0\n",
    "# Assign 0 to the variable that represents the solution\n",
    "days = 0\n",
    "position = 0\n",
    "\n",
    "# Write the code that solves the problem\n",
    "\n",
    "while position < well_height :\n",
    "    for advance in daily_advancelist:\n",
    "        position += advance\n",
    "        if position > well_height:\n",
    "            break\n",
    "        days += 1\n",
    "        position += night_retreat\n",
    "    # Print the result with print('Days =', days)\n",
    "print (days, \"days\")\n",
    "\n",
    "# What is its maximum displacement in a day? And its minimum?\n",
    "\n",
    "maxd = max(daily_advancelist)\n",
    "mind = min(daily_advancelist)\n",
    "print (\"Maximum displacement %d cm\" % maxd)\n",
    "print (\"Minimum dosplacement %d cm\" % mind)\n",
    "\n",
    "# What is its average progress?\n",
    "\n",
    "avg= sum(daily_advancelist)/len(daily_advancelist)\n",
    "print (\"The average speed is %f cm/day\" %avg)\n",
    "\n",
    "# What is the standard deviation of your displacement during the day? \n",
    "\n",
    "# importing Statistics module \n",
    "def stdev(list):\n",
    "    mean = sum(list)/len(list)\n",
    "    n = len(list)\n",
    "    v=0\n",
    "    for value in list:\n",
    "        v += (value - mean)**2\n",
    "    std = (v/(n-1))**(0.5)\n",
    "    return std\n",
    "print(\"Standard Deviation of sample is % s \" \n",
    "                % (stdev(daily_advancelist))) \n",
    "\n",
    "\n",
    "\n"
   ]
  },
  {
   "cell_type": "code",
   "execution_count": null,
   "metadata": {},
   "outputs": [],
   "source": []
  }
 ],
 "metadata": {
  "kernelspec": {
   "display_name": "Python 3",
   "language": "python",
   "name": "python3"
  },
  "language_info": {
   "codemirror_mode": {
    "name": "ipython",
    "version": 3
   },
   "file_extension": ".py",
   "mimetype": "text/x-python",
   "name": "python",
   "nbconvert_exporter": "python",
   "pygments_lexer": "ipython3",
   "version": "3.7.3"
  }
 },
 "nbformat": 4,
 "nbformat_minor": 2
}
